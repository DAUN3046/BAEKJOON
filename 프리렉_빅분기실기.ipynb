{
  "nbformat": 4,
  "nbformat_minor": 0,
  "metadata": {
    "colab": {
      "name": "프리렉 빅분기실기.ipynb",
      "provenance": [],
      "collapsed_sections": [],
      "toc_visible": true,
      "authorship_tag": "ABX9TyNdjQoyhP8Ur51MUS9N6hAk",
      "include_colab_link": true
    },
    "kernelspec": {
      "name": "python3",
      "display_name": "Python 3"
    },
    "language_info": {
      "name": "python"
    }
  },
  "cells": [
    {
      "cell_type": "markdown",
      "metadata": {
        "id": "view-in-github",
        "colab_type": "text"
      },
      "source": [
        "<a href=\"https://colab.research.google.com/github/DAUN3046/BAEKJOON/blob/master/%ED%94%84%EB%A6%AC%EB%A0%89_%EB%B9%85%EB%B6%84%EA%B8%B0%EC%8B%A4%EA%B8%B0.ipynb\" target=\"_parent\"><img src=\"https://colab.research.google.com/assets/colab-badge.svg\" alt=\"Open In Colab\"/></a>"
      ]
    },
    {
      "cell_type": "markdown",
      "source": [
        "# 2.1 데이터 준비하기: 데이터 로드"
      ],
      "metadata": {
        "id": "S-x-lMHlh12w"
      }
    },
    {
      "cell_type": "markdown",
      "source": [
        "\n",
        "## 데이터 가져오기"
      ],
      "metadata": {
        "id": "F3JMv_XXizsm"
      }
    },
    {
      "cell_type": "code",
      "execution_count": 2,
      "metadata": {
        "id": "BQT62ROoeo0E"
      },
      "outputs": [],
      "source": [
        "# 데이터 로드\n",
        "import pandas as pd\n",
        "data = pd.read_csv('mtcars.csv')"
      ]
    },
    {
      "cell_type": "markdown",
      "source": [
        "## 데이터 둘러보기"
      ],
      "metadata": {
        "id": "P0eCYus5h8fY"
      }
    },
    {
      "cell_type": "code",
      "source": [
        "# 상위 5개 데이터 출력\n",
        "print(data.head())"
      ],
      "metadata": {
        "colab": {
          "base_uri": "https://localhost:8080/"
        },
        "id": "AGpqoG2EfoQS",
        "outputId": "c57e2ec4-c580-46d3-bbeb-311a942c44ba"
      },
      "execution_count": 3,
      "outputs": [
        {
          "output_type": "stream",
          "name": "stdout",
          "text": [
            "          Unnamed: 0   mpg  cyl   disp   hp  ...   qsec  vs      am  gear carb\n",
            "0          Mazda RX4  21.0  6.0  160.0  110  ...  16.46   0  manual     4    4\n",
            "1      Mazda RX4 Wag  21.0  6.0  160.0  110  ...  17.02   0  manual     4    4\n",
            "2         Datsun 710  22.8  4.0  108.0   93  ...  18.61   1  manual     4    1\n",
            "3     Hornet 4 Drive  21.4  6.0  258.0  110  ...   0.10   1    auto     3    1\n",
            "4  Hornet Sportabout  18.7  8.0  360.0  175  ...  17.02   0    auto     3    2\n",
            "\n",
            "[5 rows x 12 columns]\n"
          ]
        }
      ]
    },
    {
      "cell_type": "markdown",
      "source": [
        "### 데이터 모양 확인하기: shape"
      ],
      "metadata": {
        "id": "m8KpPA2PlpCn"
      }
    },
    {
      "cell_type": "code",
      "source": [
        "print(data.shape) # 변수의 행/열 확인하기"
      ],
      "metadata": {
        "colab": {
          "base_uri": "https://localhost:8080/"
        },
        "id": "yLDER4aBfwSx",
        "outputId": "3721d4e9-c5bf-47c9-8a68-234f4790cca8"
      },
      "execution_count": 4,
      "outputs": [
        {
          "output_type": "stream",
          "name": "stdout",
          "text": [
            "(32, 12)\n"
          ]
        }
      ]
    },
    {
      "cell_type": "markdown",
      "source": [
        "### 데이터 타입 확인하기: type()"
      ],
      "metadata": {
        "id": "kiPt9NWGltoG"
      }
    },
    {
      "cell_type": "code",
      "source": [
        "print(type(data)) # 데이터 타입 확인하기"
      ],
      "metadata": {
        "colab": {
          "base_uri": "https://localhost:8080/"
        },
        "id": "WVRKq-mWf2H6",
        "outputId": "d48a300e-b7c3-4445-eb33-bc75f190db16"
      },
      "execution_count": 5,
      "outputs": [
        {
          "output_type": "stream",
          "name": "stdout",
          "text": [
            "<class 'pandas.core.frame.DataFrame'>\n"
          ]
        }
      ]
    },
    {
      "cell_type": "markdown",
      "source": [
        "### 데이터의 열 확인하기: columns"
      ],
      "metadata": {
        "id": "fDXcdOyklzOO"
      }
    },
    {
      "cell_type": "code",
      "source": [
        "print(data.columns) # 데이터 열 확인하기"
      ],
      "metadata": {
        "colab": {
          "base_uri": "https://localhost:8080/"
        },
        "id": "vmIm41QEf9XW",
        "outputId": "2a20243a-1e8a-4bae-9cd7-5435f9344eaa"
      },
      "execution_count": 6,
      "outputs": [
        {
          "output_type": "stream",
          "name": "stdout",
          "text": [
            "Index(['Unnamed: 0', 'mpg', 'cyl', 'disp', 'hp', 'drat', 'wt', 'qsec', 'vs',\n",
            "       'am', 'gear', 'carb'],\n",
            "      dtype='object')\n"
          ]
        }
      ]
    },
    {
      "cell_type": "markdown",
      "source": [
        "### 기초통계량 구하기: describe()"
      ],
      "metadata": {
        "id": "zUUsh4Wyl4se"
      }
    },
    {
      "cell_type": "code",
      "source": [
        "print(data.describe()) # 데이터 기초통계랑 구하기"
      ],
      "metadata": {
        "colab": {
          "base_uri": "https://localhost:8080/"
        },
        "id": "vX7JSRv7gEKC",
        "outputId": "9b7f481d-c594-42bf-bcef-666a558e1fc9"
      },
      "execution_count": 7,
      "outputs": [
        {
          "output_type": "stream",
          "name": "stdout",
          "text": [
            "             mpg        cyl        disp  ...        qsec         vs     carb\n",
            "count  32.000000  30.000000   32.000000  ...   31.000000  32.000000  32.0000\n",
            "mean   20.090625   7.600000  230.721875  ...   19.866774   0.437500   2.8125\n",
            "std     6.026948   8.194195  123.938694  ...   15.310469   0.504016   1.6152\n",
            "min    10.400000   4.000000   71.100000  ...    0.100000   0.000000   1.0000\n",
            "25%    15.425000   4.000000  120.825000  ...   16.785000   0.000000   2.0000\n",
            "50%    19.200000   6.000000  196.300000  ...   17.600000   0.000000   2.0000\n",
            "75%    22.800000   8.000000  326.000000  ...   18.755000   1.000000   4.0000\n",
            "max    33.900000  50.000000  472.000000  ...  100.000000   1.000000   8.0000\n",
            "\n",
            "[8 rows x 9 columns]\n"
          ]
        }
      ]
    },
    {
      "cell_type": "markdown",
      "source": [
        "### 데이터 중복 제거하기: unique()"
      ],
      "metadata": {
        "id": "Zta4VEmll9pP"
      }
    },
    {
      "cell_type": "code",
      "source": [
        "print(data['hp'].describe()) # hp 수치형 변수의 기초통계량 구하기"
      ],
      "metadata": {
        "colab": {
          "base_uri": "https://localhost:8080/"
        },
        "id": "fHYcdzY-gK-1",
        "outputId": "dd4b5887-c3f2-4f4f-b519-0b634cfda755"
      },
      "execution_count": 8,
      "outputs": [
        {
          "output_type": "stream",
          "name": "stdout",
          "text": [
            "count     32.000000\n",
            "mean     146.687500\n",
            "std       68.562868\n",
            "min       52.000000\n",
            "25%       96.500000\n",
            "50%      123.000000\n",
            "75%      180.000000\n",
            "max      335.000000\n",
            "Name: hp, dtype: float64\n"
          ]
        }
      ]
    },
    {
      "cell_type": "code",
      "source": [
        "print(data['am'].unique()) # am 칼럼에서 중복 제거한 값들 구하기"
      ],
      "metadata": {
        "colab": {
          "base_uri": "https://localhost:8080/"
        },
        "id": "xPjVJt59gRCI",
        "outputId": "17dcb0ac-2bd9-4edf-e968-83a056f47026"
      },
      "execution_count": 9,
      "outputs": [
        {
          "output_type": "stream",
          "name": "stdout",
          "text": [
            "['manual' 'auto']\n"
          ]
        }
      ]
    },
    {
      "cell_type": "markdown",
      "source": [
        "### 요약 정보 확인하기: info()"
      ],
      "metadata": {
        "id": "OfjmxPSimB8Q"
      }
    },
    {
      "cell_type": "code",
      "source": [
        "print(data.info()) # 데이터 요약정보 구하기"
      ],
      "metadata": {
        "colab": {
          "base_uri": "https://localhost:8080/"
        },
        "id": "ifNE1f5jgjWA",
        "outputId": "2733cc71-cada-4b9f-bca9-21b95bf6e10c"
      },
      "execution_count": 10,
      "outputs": [
        {
          "output_type": "stream",
          "name": "stdout",
          "text": [
            "<class 'pandas.core.frame.DataFrame'>\n",
            "RangeIndex: 32 entries, 0 to 31\n",
            "Data columns (total 12 columns):\n",
            " #   Column      Non-Null Count  Dtype  \n",
            "---  ------      --------------  -----  \n",
            " 0   Unnamed: 0  32 non-null     object \n",
            " 1   mpg         32 non-null     float64\n",
            " 2   cyl         30 non-null     float64\n",
            " 3   disp        32 non-null     float64\n",
            " 4   hp          32 non-null     int64  \n",
            " 5   drat        32 non-null     float64\n",
            " 6   wt          32 non-null     float64\n",
            " 7   qsec        31 non-null     float64\n",
            " 8   vs          32 non-null     int64  \n",
            " 9   am          32 non-null     object \n",
            " 10  gear        32 non-null     object \n",
            " 11  carb        32 non-null     int64  \n",
            "dtypes: float64(6), int64(3), object(3)\n",
            "memory usage: 3.1+ KB\n",
            "None\n"
          ]
        }
      ]
    },
    {
      "cell_type": "markdown",
      "source": [
        "### 상관관계 구하기: corr()"
      ],
      "metadata": {
        "id": "HMnMZTKAmFuQ"
      }
    },
    {
      "cell_type": "code",
      "source": [
        "print(data.corr()) # 상관관계 구하기"
      ],
      "metadata": {
        "colab": {
          "base_uri": "https://localhost:8080/"
        },
        "id": "fXI1d0UChni4",
        "outputId": "3889e55b-a0be-4b50-ea91-af85aea5eb00"
      },
      "execution_count": 11,
      "outputs": [
        {
          "output_type": "stream",
          "name": "stdout",
          "text": [
            "           mpg       cyl      disp  ...      qsec        vs      carb\n",
            "mpg   1.000000 -0.460227 -0.847551  ...  0.013668  0.664039 -0.550925\n",
            "cyl  -0.460227  1.000000  0.544876  ... -0.012755 -0.323960  0.239980\n",
            "disp -0.847551  0.544876  1.000000  ...  0.181810 -0.710416  0.394977\n",
            "hp   -0.776168  0.323293  0.790949  ...  0.010807 -0.723097  0.749812\n",
            "drat  0.681172 -0.372671 -0.710214  ... -0.120283  0.440278 -0.090790\n",
            "wt   -0.867659  0.533690  0.887980  ...  0.093900 -0.554916  0.427606\n",
            "qsec  0.013668 -0.012755  0.181810  ...  1.000000 -0.112146 -0.120312\n",
            "vs    0.664039 -0.323960 -0.710416  ... -0.112146  1.000000 -0.569607\n",
            "carb -0.550925  0.239980  0.394977  ... -0.120312 -0.569607  1.000000\n",
            "\n",
            "[9 rows x 9 columns]\n"
          ]
        }
      ]
    },
    {
      "cell_type": "markdown",
      "source": [
        "## 종속변수와 독립변수 분리하기"
      ],
      "metadata": {
        "id": "OCMe87E-iDDw"
      }
    },
    {
      "cell_type": "code",
      "source": [
        "X = data.drop(columns='mpg') # 독립변수 만들기\n",
        "y = data['mpg'] # 종속변수 만들기"
      ],
      "metadata": {
        "id": "sM_5YoIWiFnI"
      },
      "execution_count": 12,
      "outputs": []
    },
    {
      "cell_type": "code",
      "source": [
        "print(X.head()) # 독립변수 X의 상위 5개 행 확인"
      ],
      "metadata": {
        "colab": {
          "base_uri": "https://localhost:8080/"
        },
        "id": "sBnzutf1iXzQ",
        "outputId": "8a3481ad-a016-44db-aff0-859fea5a45d7"
      },
      "execution_count": 13,
      "outputs": [
        {
          "output_type": "stream",
          "name": "stdout",
          "text": [
            "          Unnamed: 0  cyl   disp   hp  drat  ...   qsec  vs      am gear carb\n",
            "0          Mazda RX4  6.0  160.0  110  3.90  ...  16.46   0  manual    4    4\n",
            "1      Mazda RX4 Wag  6.0  160.0  110  3.90  ...  17.02   0  manual    4    4\n",
            "2         Datsun 710  4.0  108.0   93  3.85  ...  18.61   1  manual    4    1\n",
            "3     Hornet 4 Drive  6.0  258.0  110  3.08  ...   0.10   1    auto    3    1\n",
            "4  Hornet Sportabout  8.0  360.0  175  3.15  ...  17.02   0    auto    3    2\n",
            "\n",
            "[5 rows x 11 columns]\n"
          ]
        }
      ]
    },
    {
      "cell_type": "code",
      "source": [
        "print(y.head()) # 종속변수 y의 상위 5개 행 확인"
      ],
      "metadata": {
        "colab": {
          "base_uri": "https://localhost:8080/"
        },
        "id": "nXF0PHTGidgA",
        "outputId": "c887e69f-b81a-43bf-9ec1-fb5b324b05ba"
      },
      "execution_count": 14,
      "outputs": [
        {
          "output_type": "stream",
          "name": "stdout",
          "text": [
            "0    21.0\n",
            "1    21.0\n",
            "2    22.8\n",
            "3    21.4\n",
            "4    18.7\n",
            "Name: mpg, dtype: float64\n"
          ]
        }
      ]
    },
    {
      "cell_type": "markdown",
      "source": [
        "# 2.2 데이터를 관찰하고 가공하기: 전처리"
      ],
      "metadata": {
        "id": "1vq_5CKJi6Bt"
      }
    },
    {
      "cell_type": "markdown",
      "source": [
        "## 불필요한 열 삭제하기"
      ],
      "metadata": {
        "id": "1JpJqu7sjGs4"
      }
    },
    {
      "cell_type": "code",
      "source": [
        "print(X.head())"
      ],
      "metadata": {
        "colab": {
          "base_uri": "https://localhost:8080/"
        },
        "id": "RA9syshjjFoQ",
        "outputId": "2be19e91-af6c-4943-83cb-042d8b2ec62b"
      },
      "execution_count": 15,
      "outputs": [
        {
          "output_type": "stream",
          "name": "stdout",
          "text": [
            "          Unnamed: 0  cyl   disp   hp  drat  ...   qsec  vs      am gear carb\n",
            "0          Mazda RX4  6.0  160.0  110  3.90  ...  16.46   0  manual    4    4\n",
            "1      Mazda RX4 Wag  6.0  160.0  110  3.90  ...  17.02   0  manual    4    4\n",
            "2         Datsun 710  4.0  108.0   93  3.85  ...  18.61   1  manual    4    1\n",
            "3     Hornet 4 Drive  6.0  258.0  110  3.08  ...   0.10   1    auto    3    1\n",
            "4  Hornet Sportabout  8.0  360.0  175  3.15  ...  17.02   0    auto    3    2\n",
            "\n",
            "[5 rows x 11 columns]\n"
          ]
        }
      ]
    },
    {
      "cell_type": "markdown",
      "source": [
        "자동차 모델명의 의미를 지닌 Unnamed: 0 열은 분석에 필요없는 열이므로 삭제한다."
      ],
      "metadata": {
        "id": "xBeBv5_sjYeP"
      }
    },
    {
      "cell_type": "code",
      "source": [
        "X = X.iloc[:, 1:]\n",
        "print(X.head())"
      ],
      "metadata": {
        "colab": {
          "base_uri": "https://localhost:8080/"
        },
        "id": "_-H9yJ5Kjm0v",
        "outputId": "614f5e56-57eb-4985-8d92-4a898f47fc65"
      },
      "execution_count": 16,
      "outputs": [
        {
          "output_type": "stream",
          "name": "stdout",
          "text": [
            "   cyl   disp   hp  drat     wt   qsec  vs      am gear  carb\n",
            "0  6.0  160.0  110  3.90  2.620  16.46   0  manual    4     4\n",
            "1  6.0  160.0  110  3.90  2.875  17.02   0  manual    4     4\n",
            "2  4.0  108.0   93  3.85  2.320  18.61   1  manual    4     1\n",
            "3  6.0  258.0  110  3.08  3.215   0.10   1    auto    3     1\n",
            "4  8.0  360.0  175  3.15  3.440  17.02   0    auto    3     2\n"
          ]
        }
      ]
    },
    {
      "cell_type": "markdown",
      "source": [
        "## 결측값 처리하기"
      ],
      "metadata": {
        "id": "De_CUwK9juuv"
      }
    },
    {
      "cell_type": "markdown",
      "source": [
        "### 결측치 여부 확인하기"
      ],
      "metadata": {
        "id": "rLJtUe7Xj00_"
      }
    },
    {
      "cell_type": "code",
      "source": [
        "X.isnull().sum()"
      ],
      "metadata": {
        "colab": {
          "base_uri": "https://localhost:8080/"
        },
        "id": "3ySp_sfhjwUH",
        "outputId": "db470834-6ca2-445d-e3ca-afdd68555d5b"
      },
      "execution_count": 18,
      "outputs": [
        {
          "output_type": "execute_result",
          "data": {
            "text/plain": [
              "cyl     2\n",
              "disp    0\n",
              "hp      0\n",
              "drat    0\n",
              "wt      0\n",
              "qsec    1\n",
              "vs      0\n",
              "am      0\n",
              "gear    0\n",
              "carb    0\n",
              "dtype: int64"
            ]
          },
          "metadata": {},
          "execution_count": 18
        }
      ]
    },
    {
      "cell_type": "markdown",
      "source": [
        "### 평균값으로 대치하기"
      ],
      "metadata": {
        "id": "GDKPHZRpkDBQ"
      }
    },
    {
      "cell_type": "code",
      "source": [
        "# cyl 열의 평균값을 X_cyl_mean 변수에 저장하기\n",
        "X_cyl_mean = X['cyl'].mean()\n",
        "print(X_cyl_mean)"
      ],
      "metadata": {
        "colab": {
          "base_uri": "https://localhost:8080/"
        },
        "id": "WfFCssT-kFAH",
        "outputId": "2308412e-c4fe-41b3-9787-28d5609b7ced"
      },
      "execution_count": 19,
      "outputs": [
        {
          "output_type": "stream",
          "name": "stdout",
          "text": [
            "7.6\n"
          ]
        }
      ]
    },
    {
      "cell_type": "code",
      "source": [
        "# cyl 열의 결측치를 X_cyl_mean 값으로 채운 후, 다시 cyl 변수에 저장하기\n",
        "X['cyl'] = X['cyl'].fillna(X_cyl_mean)\n",
        "print(X.isnull().sum())"
      ],
      "metadata": {
        "colab": {
          "base_uri": "https://localhost:8080/"
        },
        "id": "nJzIalEhkrXP",
        "outputId": "81006c4f-66fd-4acd-9497-d455958ba8f9"
      },
      "execution_count": 21,
      "outputs": [
        {
          "output_type": "stream",
          "name": "stdout",
          "text": [
            "cyl     0\n",
            "disp    0\n",
            "hp      0\n",
            "drat    0\n",
            "wt      0\n",
            "qsec    1\n",
            "vs      0\n",
            "am      0\n",
            "gear    0\n",
            "carb    0\n",
            "dtype: int64\n"
          ]
        }
      ]
    },
    {
      "cell_type": "markdown",
      "source": [
        "### 중위값으로 대치하기"
      ],
      "metadata": {
        "id": "_PxlPeKukTOX"
      }
    },
    {
      "cell_type": "code",
      "source": [
        "# qsec열의 중위값을 X_qsec_median 변수에 저장하기\n",
        "X_qsec_median = X['qsec'].median()\n",
        "print(X_qsec_median)"
      ],
      "metadata": {
        "colab": {
          "base_uri": "https://localhost:8080/"
        },
        "id": "fCZJTenxkVnv",
        "outputId": "cce18dc6-8bf1-46e8-8a26-fcc6d68c9ccb"
      },
      "execution_count": 20,
      "outputs": [
        {
          "output_type": "stream",
          "name": "stdout",
          "text": [
            "17.6\n"
          ]
        }
      ]
    },
    {
      "cell_type": "code",
      "source": [
        "# qsec 열의 결측치를 중위값으로 대치하기\n",
        "X['qsec'] = X['qsec'].fillna(X_qsec_median)\n",
        "print(X.isnull().sum())"
      ],
      "metadata": {
        "colab": {
          "base_uri": "https://localhost:8080/"
        },
        "id": "EESnzYs3lEOP",
        "outputId": "ea211891-84f6-45ea-8ed9-ad7561eb5201"
      },
      "execution_count": 22,
      "outputs": [
        {
          "output_type": "stream",
          "name": "stdout",
          "text": [
            "cyl     0\n",
            "disp    0\n",
            "hp      0\n",
            "drat    0\n",
            "wt      0\n",
            "qsec    0\n",
            "vs      0\n",
            "am      0\n",
            "gear    0\n",
            "carb    0\n",
            "dtype: int64\n"
          ]
        }
      ]
    },
    {
      "cell_type": "markdown",
      "source": [
        "## 잘못된 값을 올바르게 바꾸기"
      ],
      "metadata": {
        "id": "JndCAoxGlUPV"
      }
    },
    {
      "cell_type": "code",
      "source": [
        "print(X['gear'].unique())"
      ],
      "metadata": {
        "colab": {
          "base_uri": "https://localhost:8080/"
        },
        "id": "lbQX5mAqlXhX",
        "outputId": "6811b8af-58bc-448e-f4bf-070b959d6ebe"
      },
      "execution_count": 23,
      "outputs": [
        {
          "output_type": "stream",
          "name": "stdout",
          "text": [
            "['4' '3' '*3' '5' '*5']\n"
          ]
        }
      ]
    },
    {
      "cell_type": "code",
      "source": [
        "# gear 열의 '*3'은 '3'으로, '*5'는 '5'로 바꾼 경우의 값 확인하기\n",
        "print(X['gear'].replace('*3','3').replace('*5','5'))"
      ],
      "metadata": {
        "colab": {
          "base_uri": "https://localhost:8080/"
        },
        "id": "RCgTZyWomkSn",
        "outputId": "f0ed5caf-6f03-48ce-ceff-43d56313503d"
      },
      "execution_count": 24,
      "outputs": [
        {
          "output_type": "stream",
          "name": "stdout",
          "text": [
            "0     4\n",
            "1     4\n",
            "2     4\n",
            "3     3\n",
            "4     3\n",
            "5     3\n",
            "6     3\n",
            "7     4\n",
            "8     4\n",
            "9     4\n",
            "10    4\n",
            "11    3\n",
            "12    3\n",
            "13    3\n",
            "14    3\n",
            "15    3\n",
            "16    3\n",
            "17    4\n",
            "18    4\n",
            "19    4\n",
            "20    3\n",
            "21    3\n",
            "22    3\n",
            "23    3\n",
            "24    3\n",
            "25    4\n",
            "26    5\n",
            "27    5\n",
            "28    5\n",
            "29    5\n",
            "30    5\n",
            "31    4\n",
            "Name: gear, dtype: object\n"
          ]
        }
      ]
    },
    {
      "cell_type": "code",
      "source": [
        "# gear 열의 '*3'은 '3'으로, '*5'는 '5'로 바꾼 결과를 gear 열에 저장하기\n",
        "X['gear'] = X['gear'].replace('*3','3').replace('*5','5')"
      ],
      "metadata": {
        "id": "ZcgthZXMmtun"
      },
      "execution_count": 25,
      "outputs": []
    },
    {
      "cell_type": "code",
      "source": [
        "# gear 열에서 중복되지 않은 값들을 확인하기\n",
        "print(X['gear'].unique())"
      ],
      "metadata": {
        "colab": {
          "base_uri": "https://localhost:8080/"
        },
        "id": "hAqN4fjKnGdm",
        "outputId": "bf09b634-4145-4b73-8242-fd0cbadb764f"
      },
      "execution_count": 26,
      "outputs": [
        {
          "output_type": "stream",
          "name": "stdout",
          "text": [
            "['4' '3' '5']\n"
          ]
        }
      ]
    },
    {
      "cell_type": "markdown",
      "source": [
        "## 이상값 처리하기"
      ],
      "metadata": {
        "id": "5BV21PwMmj9H"
      }
    },
    {
      "cell_type": "markdown",
      "source": [
        "### 사분범위(IQR) 활용하기"
      ],
      "metadata": {
        "id": "xkV7M-_lnUXu"
      }
    },
    {
      "cell_type": "code",
      "source": [
        "# X 변수의 기초 통계량을 구한 후, X_describe 변수에 저장하기\n",
        "X_describe = X.describe()\n",
        "print(X.describe)"
      ],
      "metadata": {
        "colab": {
          "base_uri": "https://localhost:8080/"
        },
        "id": "bcjTMxgCnd7W",
        "outputId": "6788c4a3-3bf2-4282-c039-04ab4e9ac095"
      },
      "execution_count": 27,
      "outputs": [
        {
          "output_type": "stream",
          "name": "stdout",
          "text": [
            "<bound method NDFrame.describe of      cyl   disp   hp  drat     wt    qsec  vs      am gear  carb\n",
            "0    6.0  160.0  110  3.90  2.620   16.46   0  manual    4     4\n",
            "1    6.0  160.0  110  3.90  2.875   17.02   0  manual    4     4\n",
            "2    4.0  108.0   93  3.85  2.320   18.61   1  manual    4     1\n",
            "3    6.0  258.0  110  3.08  3.215    0.10   1    auto    3     1\n",
            "4    8.0  360.0  175  3.15  3.440   17.02   0    auto    3     2\n",
            "5    6.0  225.0  105  2.76  3.460   20.22   1    auto    3     1\n",
            "6    8.0  360.0  245  3.21  3.570   15.84   0    auto    3     4\n",
            "7    7.6  146.7   62  3.69  3.190   20.00   1    auto    4     2\n",
            "8    4.0  140.8   95  3.92  3.150   22.90   1    auto    4     2\n",
            "9    6.0  167.6  123  3.92  3.440   18.30   1    auto    4     4\n",
            "10   6.0  167.6  123  3.92  3.440   17.60   1    auto    4     4\n",
            "11   8.0  275.8  180  3.07  4.070   17.40   0    auto    3     3\n",
            "12   8.0  275.8  180  3.07  3.730   17.60   0    auto    3     3\n",
            "13   8.0  275.8  180  3.07  3.780   18.00   0    auto    3     3\n",
            "14  50.0  472.0  205  2.93  5.250   17.98   0    auto    3     4\n",
            "15   8.0  460.0  215  3.00  5.424   17.82   0    auto    3     4\n",
            "16   8.0  440.0  230  3.23  5.345   17.42   0    auto    3     4\n",
            "17   4.0   78.7   66  4.08  2.200   19.47   1  manual    4     1\n",
            "18   4.0   75.7   52  4.93  1.615   18.52   1  manual    4     2\n",
            "19   4.0   71.1   65  4.22  1.835   19.90   1  manual    4     1\n",
            "20   4.0  120.1   97  3.70  2.465   20.01   1    auto    3     1\n",
            "21   8.0  318.0  150  2.76  3.520   16.87   0    auto    3     2\n",
            "22   8.0  304.0  150  3.15  3.435   17.30   0    auto    3     2\n",
            "23   8.0  350.0  245  3.73  3.840   15.41   0    auto    3     4\n",
            "24   7.6  400.0  175  3.08  3.845  100.00   0    auto    3     2\n",
            "25   4.0   79.0   66  4.08  1.935   18.90   1  manual    4     1\n",
            "26   4.0  120.3   91  4.43  2.140   16.70   0  manual    5     2\n",
            "27   4.0   95.1  113  3.77  1.513   16.90   1  manual    5     2\n",
            "28   8.0  351.0  264  4.22  3.170   14.50   0  manual    5     4\n",
            "29   6.0  145.0  175  3.62  2.770   15.50   0  manual    5     6\n",
            "30   8.0  301.0  335  3.54  3.570   14.60   0  manual    5     8\n",
            "31   4.0  121.0  109  4.11  2.780   18.60   1  manual    4     2>\n"
          ]
        }
      ]
    }
  ]
}